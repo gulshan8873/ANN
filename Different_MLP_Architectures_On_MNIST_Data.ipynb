{
 "cells": [
  {
   "cell_type": "markdown",
   "metadata": {},
   "source": [
    "# Different MLP Architecture On MNIST Dataset"
   ]
  },
  {
   "cell_type": "code",
   "execution_count": 0,
   "metadata": {
    "colab": {},
    "colab_type": "code",
    "id": "AujqcSACEMA3"
   },
   "outputs": [],
   "source": [
    "# if you keras is not using tensorflow as backend set \"KERAS_BACKEND=tensorflow\" use this command\n",
    "from keras.utils import np_utils \n",
    "from keras.datasets import mnist \n",
    "import seaborn as sns\n",
    "from keras.initializers import RandomNormal"
   ]
  },
  {
   "cell_type": "code",
   "execution_count": 0,
   "metadata": {
    "colab": {},
    "colab_type": "code",
    "id": "8bP6pbQWFb2w"
   },
   "outputs": [],
   "source": [
    "# the data, shuffled and split between train and test sets \n",
    "(X_train, y_train), (X_test, y_test) = mnist.load_data()"
   ]
  },
  {
   "cell_type": "code",
   "execution_count": 0,
   "metadata": {
    "colab": {
     "base_uri": "https://localhost:8080/",
     "height": 51
    },
    "colab_type": "code",
    "id": "X9i5gqW4FcAR",
    "outputId": "720f2b48-a75d-449d-997c-b98976003b04"
   },
   "outputs": [
    {
     "name": "stdout",
     "output_type": "stream",
     "text": [
      "Number of training examples : 60000 and each image is of shape (28, 28)\n",
      "Number of training examples : 10000 and each image is of shape (28, 28)\n"
     ]
    }
   ],
   "source": [
    "print(\"Number of training examples :\", X_train.shape[0], \"and each image is of shape (%d, %d)\"%(X_train.shape[1], X_train.shape[2]))\n",
    "print(\"Number of training examples :\", X_test.shape[0], \"and each image is of shape (%d, %d)\"%(X_test.shape[1], X_test.shape[2]))"
   ]
  },
  {
   "cell_type": "code",
   "execution_count": 0,
   "metadata": {
    "colab": {},
    "colab_type": "code",
    "id": "kPVrPqXyFl8N"
   },
   "outputs": [],
   "source": [
    "# if you observe the input shape its 3 dimensional vector\n",
    "# for each image we have a (28*28) vector\n",
    "# we will convert the (28*28) vector into single dimensional vector of 1 * 784 \n",
    "\n",
    "X_train = X_train.reshape(X_train.shape[0], X_train.shape[1]*X_train.shape[2]) \n",
    "X_test = X_test.reshape(X_test.shape[0], X_test.shape[1]*X_test.shape[2]) "
   ]
  },
  {
   "cell_type": "code",
   "execution_count": 0,
   "metadata": {
    "colab": {
     "base_uri": "https://localhost:8080/",
     "height": 51
    },
    "colab_type": "code",
    "id": "jG5g1RuqFl_A",
    "outputId": "8d2d6ea6-ce51-45fa-c951-c58b2f3ba03f"
   },
   "outputs": [
    {
     "name": "stdout",
     "output_type": "stream",
     "text": [
      "Number of training examples : 60000 and each image is of shape (784)\n",
      "Number of training examples : 10000 and each image is of shape (784)\n"
     ]
    }
   ],
   "source": [
    "# after converting the input images from 3d to 2d vectors\n",
    "\n",
    "print(\"Number of training examples :\", X_train.shape[0], \"and each image is of shape (%d)\"%(X_train.shape[1]))\n",
    "print(\"Number of training examples :\", X_test.shape[0], \"and each image is of shape (%d)\"%(X_test.shape[1]))"
   ]
  },
  {
   "cell_type": "code",
   "execution_count": 0,
   "metadata": {
    "colab": {
     "base_uri": "https://localhost:8080/",
     "height": 765
    },
    "colab_type": "code",
    "id": "r2LkhzLiFmB1",
    "outputId": "e339117f-08af-4790-e4ca-69c050d0da68"
   },
   "outputs": [
    {
     "name": "stdout",
     "output_type": "stream",
     "text": [
      "[  0   0   0   0   0   0   0   0   0   0   0   0   0   0   0   0   0   0\n",
      "   0   0   0   0   0   0   0   0   0   0   0   0   0   0   0   0   0   0\n",
      "   0   0   0   0   0   0   0   0   0   0   0   0   0   0   0   0   0   0\n",
      "   0   0   0   0   0   0   0   0   0   0   0   0   0   0   0   0   0   0\n",
      "   0   0   0   0   0   0   0   0   0   0   0   0   0   0   0   0   0   0\n",
      "   0   0   0   0   0   0   0   0   0   0   0   0   0   0   0   0   0   0\n",
      "   0   0   0   0   0   0   0   0   0   0   0   0   0   0   0   0   0   0\n",
      "   0   0   0   0   0   0   0   0   0   0   0   0   0   0   0   0   0   0\n",
      "   0   0   0   0   0   0   0   0   3  18  18  18 126 136 175  26 166 255\n",
      " 247 127   0   0   0   0   0   0   0   0   0   0   0   0  30  36  94 154\n",
      " 170 253 253 253 253 253 225 172 253 242 195  64   0   0   0   0   0   0\n",
      "   0   0   0   0   0  49 238 253 253 253 253 253 253 253 253 251  93  82\n",
      "  82  56  39   0   0   0   0   0   0   0   0   0   0   0   0  18 219 253\n",
      " 253 253 253 253 198 182 247 241   0   0   0   0   0   0   0   0   0   0\n",
      "   0   0   0   0   0   0   0   0  80 156 107 253 253 205  11   0  43 154\n",
      "   0   0   0   0   0   0   0   0   0   0   0   0   0   0   0   0   0   0\n",
      "   0  14   1 154 253  90   0   0   0   0   0   0   0   0   0   0   0   0\n",
      "   0   0   0   0   0   0   0   0   0   0   0   0   0 139 253 190   2   0\n",
      "   0   0   0   0   0   0   0   0   0   0   0   0   0   0   0   0   0   0\n",
      "   0   0   0   0   0  11 190 253  70   0   0   0   0   0   0   0   0   0\n",
      "   0   0   0   0   0   0   0   0   0   0   0   0   0   0   0   0  35 241\n",
      " 225 160 108   1   0   0   0   0   0   0   0   0   0   0   0   0   0   0\n",
      "   0   0   0   0   0   0   0   0   0  81 240 253 253 119  25   0   0   0\n",
      "   0   0   0   0   0   0   0   0   0   0   0   0   0   0   0   0   0   0\n",
      "   0   0  45 186 253 253 150  27   0   0   0   0   0   0   0   0   0   0\n",
      "   0   0   0   0   0   0   0   0   0   0   0   0   0  16  93 252 253 187\n",
      "   0   0   0   0   0   0   0   0   0   0   0   0   0   0   0   0   0   0\n",
      "   0   0   0   0   0   0   0 249 253 249  64   0   0   0   0   0   0   0\n",
      "   0   0   0   0   0   0   0   0   0   0   0   0   0   0  46 130 183 253\n",
      " 253 207   2   0   0   0   0   0   0   0   0   0   0   0   0   0   0   0\n",
      "   0   0   0   0  39 148 229 253 253 253 250 182   0   0   0   0   0   0\n",
      "   0   0   0   0   0   0   0   0   0   0   0   0  24 114 221 253 253 253\n",
      " 253 201  78   0   0   0   0   0   0   0   0   0   0   0   0   0   0   0\n",
      "   0   0  23  66 213 253 253 253 253 198  81   2   0   0   0   0   0   0\n",
      "   0   0   0   0   0   0   0   0   0   0  18 171 219 253 253 253 253 195\n",
      "  80   9   0   0   0   0   0   0   0   0   0   0   0   0   0   0   0   0\n",
      "  55 172 226 253 253 253 253 244 133  11   0   0   0   0   0   0   0   0\n",
      "   0   0   0   0   0   0   0   0   0   0 136 253 253 253 212 135 132  16\n",
      "   0   0   0   0   0   0   0   0   0   0   0   0   0   0   0   0   0   0\n",
      "   0   0   0   0   0   0   0   0   0   0   0   0   0   0   0   0   0   0\n",
      "   0   0   0   0   0   0   0   0   0   0   0   0   0   0   0   0   0   0\n",
      "   0   0   0   0   0   0   0   0   0   0   0   0   0   0   0   0   0   0\n",
      "   0   0   0   0   0   0   0   0   0   0   0   0   0   0   0   0   0   0\n",
      "   0   0   0   0   0   0   0   0   0   0]\n"
     ]
    }
   ],
   "source": [
    "# An example data point\n",
    "print(X_train[0])"
   ]
  },
  {
   "cell_type": "code",
   "execution_count": 0,
   "metadata": {
    "colab": {},
    "colab_type": "code",
    "id": "JYPy27_-FmEd"
   },
   "outputs": [],
   "source": [
    "# if we observe the above matrix each cell is having a value between 0-255\n",
    "# before we move to apply machine learning algorithms lets try to normalize the data\n",
    "# X => (X - Xmin)/(Xmax-Xmin) = X/255\n",
    "\n",
    "X_train = X_train/255\n",
    "X_test = X_test/255"
   ]
  },
  {
   "cell_type": "code",
   "execution_count": 0,
   "metadata": {
    "colab": {
     "base_uri": "https://localhost:8080/",
     "height": 2244
    },
    "colab_type": "code",
    "id": "rWHuDeXfFmHN",
    "outputId": "9b3f96a2-d689-422f-950f-240db18eacf3"
   },
   "outputs": [
    {
     "name": "stdout",
     "output_type": "stream",
     "text": [
      "[0.         0.         0.         0.         0.         0.\n",
      " 0.         0.         0.         0.         0.         0.\n",
      " 0.         0.         0.         0.         0.         0.\n",
      " 0.         0.         0.         0.         0.         0.\n",
      " 0.         0.         0.         0.         0.         0.\n",
      " 0.         0.         0.         0.         0.         0.\n",
      " 0.         0.         0.         0.         0.         0.\n",
      " 0.         0.         0.         0.         0.         0.\n",
      " 0.         0.         0.         0.         0.         0.\n",
      " 0.         0.         0.         0.         0.         0.\n",
      " 0.         0.         0.         0.         0.         0.\n",
      " 0.         0.         0.         0.         0.         0.\n",
      " 0.         0.         0.         0.         0.         0.\n",
      " 0.         0.         0.         0.         0.         0.\n",
      " 0.         0.         0.         0.         0.         0.\n",
      " 0.         0.         0.         0.         0.         0.\n",
      " 0.         0.         0.         0.         0.         0.\n",
      " 0.         0.         0.         0.         0.         0.\n",
      " 0.         0.         0.         0.         0.         0.\n",
      " 0.         0.         0.         0.         0.         0.\n",
      " 0.         0.         0.         0.         0.         0.\n",
      " 0.         0.         0.         0.         0.         0.\n",
      " 0.         0.         0.         0.         0.         0.\n",
      " 0.         0.         0.         0.         0.         0.\n",
      " 0.         0.         0.         0.         0.         0.\n",
      " 0.         0.         0.01176471 0.07058824 0.07058824 0.07058824\n",
      " 0.49411765 0.53333333 0.68627451 0.10196078 0.65098039 1.\n",
      " 0.96862745 0.49803922 0.         0.         0.         0.\n",
      " 0.         0.         0.         0.         0.         0.\n",
      " 0.         0.         0.11764706 0.14117647 0.36862745 0.60392157\n",
      " 0.66666667 0.99215686 0.99215686 0.99215686 0.99215686 0.99215686\n",
      " 0.88235294 0.6745098  0.99215686 0.94901961 0.76470588 0.25098039\n",
      " 0.         0.         0.         0.         0.         0.\n",
      " 0.         0.         0.         0.         0.         0.19215686\n",
      " 0.93333333 0.99215686 0.99215686 0.99215686 0.99215686 0.99215686\n",
      " 0.99215686 0.99215686 0.99215686 0.98431373 0.36470588 0.32156863\n",
      " 0.32156863 0.21960784 0.15294118 0.         0.         0.\n",
      " 0.         0.         0.         0.         0.         0.\n",
      " 0.         0.         0.         0.07058824 0.85882353 0.99215686\n",
      " 0.99215686 0.99215686 0.99215686 0.99215686 0.77647059 0.71372549\n",
      " 0.96862745 0.94509804 0.         0.         0.         0.\n",
      " 0.         0.         0.         0.         0.         0.\n",
      " 0.         0.         0.         0.         0.         0.\n",
      " 0.         0.         0.31372549 0.61176471 0.41960784 0.99215686\n",
      " 0.99215686 0.80392157 0.04313725 0.         0.16862745 0.60392157\n",
      " 0.         0.         0.         0.         0.         0.\n",
      " 0.         0.         0.         0.         0.         0.\n",
      " 0.         0.         0.         0.         0.         0.\n",
      " 0.         0.05490196 0.00392157 0.60392157 0.99215686 0.35294118\n",
      " 0.         0.         0.         0.         0.         0.\n",
      " 0.         0.         0.         0.         0.         0.\n",
      " 0.         0.         0.         0.         0.         0.\n",
      " 0.         0.         0.         0.         0.         0.\n",
      " 0.         0.54509804 0.99215686 0.74509804 0.00784314 0.\n",
      " 0.         0.         0.         0.         0.         0.\n",
      " 0.         0.         0.         0.         0.         0.\n",
      " 0.         0.         0.         0.         0.         0.\n",
      " 0.         0.         0.         0.         0.         0.04313725\n",
      " 0.74509804 0.99215686 0.2745098  0.         0.         0.\n",
      " 0.         0.         0.         0.         0.         0.\n",
      " 0.         0.         0.         0.         0.         0.\n",
      " 0.         0.         0.         0.         0.         0.\n",
      " 0.         0.         0.         0.         0.1372549  0.94509804\n",
      " 0.88235294 0.62745098 0.42352941 0.00392157 0.         0.\n",
      " 0.         0.         0.         0.         0.         0.\n",
      " 0.         0.         0.         0.         0.         0.\n",
      " 0.         0.         0.         0.         0.         0.\n",
      " 0.         0.         0.         0.31764706 0.94117647 0.99215686\n",
      " 0.99215686 0.46666667 0.09803922 0.         0.         0.\n",
      " 0.         0.         0.         0.         0.         0.\n",
      " 0.         0.         0.         0.         0.         0.\n",
      " 0.         0.         0.         0.         0.         0.\n",
      " 0.         0.         0.17647059 0.72941176 0.99215686 0.99215686\n",
      " 0.58823529 0.10588235 0.         0.         0.         0.\n",
      " 0.         0.         0.         0.         0.         0.\n",
      " 0.         0.         0.         0.         0.         0.\n",
      " 0.         0.         0.         0.         0.         0.\n",
      " 0.         0.0627451  0.36470588 0.98823529 0.99215686 0.73333333\n",
      " 0.         0.         0.         0.         0.         0.\n",
      " 0.         0.         0.         0.         0.         0.\n",
      " 0.         0.         0.         0.         0.         0.\n",
      " 0.         0.         0.         0.         0.         0.\n",
      " 0.         0.97647059 0.99215686 0.97647059 0.25098039 0.\n",
      " 0.         0.         0.         0.         0.         0.\n",
      " 0.         0.         0.         0.         0.         0.\n",
      " 0.         0.         0.         0.         0.         0.\n",
      " 0.         0.         0.18039216 0.50980392 0.71764706 0.99215686\n",
      " 0.99215686 0.81176471 0.00784314 0.         0.         0.\n",
      " 0.         0.         0.         0.         0.         0.\n",
      " 0.         0.         0.         0.         0.         0.\n",
      " 0.         0.         0.         0.         0.15294118 0.58039216\n",
      " 0.89803922 0.99215686 0.99215686 0.99215686 0.98039216 0.71372549\n",
      " 0.         0.         0.         0.         0.         0.\n",
      " 0.         0.         0.         0.         0.         0.\n",
      " 0.         0.         0.         0.         0.         0.\n",
      " 0.09411765 0.44705882 0.86666667 0.99215686 0.99215686 0.99215686\n",
      " 0.99215686 0.78823529 0.30588235 0.         0.         0.\n",
      " 0.         0.         0.         0.         0.         0.\n",
      " 0.         0.         0.         0.         0.         0.\n",
      " 0.         0.         0.09019608 0.25882353 0.83529412 0.99215686\n",
      " 0.99215686 0.99215686 0.99215686 0.77647059 0.31764706 0.00784314\n",
      " 0.         0.         0.         0.         0.         0.\n",
      " 0.         0.         0.         0.         0.         0.\n",
      " 0.         0.         0.         0.         0.07058824 0.67058824\n",
      " 0.85882353 0.99215686 0.99215686 0.99215686 0.99215686 0.76470588\n",
      " 0.31372549 0.03529412 0.         0.         0.         0.\n",
      " 0.         0.         0.         0.         0.         0.\n",
      " 0.         0.         0.         0.         0.         0.\n",
      " 0.21568627 0.6745098  0.88627451 0.99215686 0.99215686 0.99215686\n",
      " 0.99215686 0.95686275 0.52156863 0.04313725 0.         0.\n",
      " 0.         0.         0.         0.         0.         0.\n",
      " 0.         0.         0.         0.         0.         0.\n",
      " 0.         0.         0.         0.         0.53333333 0.99215686\n",
      " 0.99215686 0.99215686 0.83137255 0.52941176 0.51764706 0.0627451\n",
      " 0.         0.         0.         0.         0.         0.\n",
      " 0.         0.         0.         0.         0.         0.\n",
      " 0.         0.         0.         0.         0.         0.\n",
      " 0.         0.         0.         0.         0.         0.\n",
      " 0.         0.         0.         0.         0.         0.\n",
      " 0.         0.         0.         0.         0.         0.\n",
      " 0.         0.         0.         0.         0.         0.\n",
      " 0.         0.         0.         0.         0.         0.\n",
      " 0.         0.         0.         0.         0.         0.\n",
      " 0.         0.         0.         0.         0.         0.\n",
      " 0.         0.         0.         0.         0.         0.\n",
      " 0.         0.         0.         0.         0.         0.\n",
      " 0.         0.         0.         0.         0.         0.\n",
      " 0.         0.         0.         0.         0.         0.\n",
      " 0.         0.         0.         0.         0.         0.\n",
      " 0.         0.         0.         0.         0.         0.\n",
      " 0.         0.         0.         0.        ]\n"
     ]
    }
   ],
   "source": [
    "# example data point after normlizing\n",
    "print(X_train[0])"
   ]
  },
  {
   "cell_type": "code",
   "execution_count": 0,
   "metadata": {
    "colab": {
     "base_uri": "https://localhost:8080/",
     "height": 51
    },
    "colab_type": "code",
    "id": "cUC5xv9iFmJp",
    "outputId": "18daa3b8-f91a-47cd-a97d-9450c5b4a23a"
   },
   "outputs": [
    {
     "name": "stdout",
     "output_type": "stream",
     "text": [
      "Class label of first image : 5\n",
      "After converting the output into a vector :  [0. 0. 0. 0. 0. 1. 0. 0. 0. 0.]\n"
     ]
    }
   ],
   "source": [
    "# here we are having a class number for each image\n",
    "print(\"Class label of first image :\", y_train[0])\n",
    "\n",
    "# lets convert this into a 10 dimensional vector\n",
    "# ex: consider an image is 5 convert it into 5 => [0, 0, 0, 0, 0, 1, 0, 0, 0, 0]\n",
    "# this conversion needed for MLPs \n",
    "\n",
    "Y_train = np_utils.to_categorical(y_train, 10) \n",
    "Y_test = np_utils.to_categorical(y_test, 10)\n",
    "\n",
    "print(\"After converting the output into a vector : \",Y_train[0])"
   ]
  },
  {
   "cell_type": "code",
   "execution_count": 0,
   "metadata": {
    "colab": {},
    "colab_type": "code",
    "id": "oYnn3rFxFmOC"
   },
   "outputs": [],
   "source": [
    "# this function is used draw Categorical Crossentropy Loss VS No. of epochs plot\n",
    "def plt_dynamic(x, vy, ty):\n",
    "  plt.figure(figsize=(10,5))\n",
    "  plt.plot(x, vy, 'b', label=\"Validation Loss\")\n",
    "  plt.plot(x, ty, 'r', label=\"Train Loss\")\n",
    "  plt.xlabel('Epochs') \n",
    "  plt.ylabel('Categorical Crossentropy Loss')\n",
    "  plt.title('\\nCategorical Crossentropy Loss VS Epochs')\n",
    "  plt.legend()\n",
    "  plt.grid()\n",
    "  plt.show()"
   ]
  },
  {
   "cell_type": "markdown",
   "metadata": {
    "colab_type": "text",
    "id": "EL0T9_g0Upa5"
   },
   "source": [
    "## (1). Softmax Classifier with 2 hidden layers"
   ]
  },
  {
   "cell_type": "markdown",
   "metadata": {
    "colab_type": "text",
    "id": "hAC5TGyaU8Dt"
   },
   "source": [
    "### (1.a) Without dropout and Batch normalization"
   ]
  },
  {
   "cell_type": "code",
   "execution_count": 0,
   "metadata": {
    "colab": {
     "base_uri": "https://localhost:8080/",
     "height": 969
    },
    "colab_type": "code",
    "id": "cVUGa4U9VGaA",
    "outputId": "0376107f-b9db-4c8b-cfbc-8d60210e0669"
   },
   "outputs": [
    {
     "name": "stdout",
     "output_type": "stream",
     "text": [
      "_________________________________________________________________\n",
      "Layer (type)                 Output Shape              Param #   \n",
      "=================================================================\n",
      "dense_10 (Dense)             (None, 364)               285740    \n",
      "_________________________________________________________________\n",
      "dense_11 (Dense)             (None, 52)                18980     \n",
      "_________________________________________________________________\n",
      "dense_12 (Dense)             (None, 10)                530       \n",
      "=================================================================\n",
      "Total params: 305,250\n",
      "Trainable params: 305,250\n",
      "Non-trainable params: 0\n",
      "_________________________________________________________________\n",
      "Model Summary :- \n",
      " None\n",
      "Train on 60000 samples, validate on 10000 samples\n",
      "Epoch 1/20\n",
      "60000/60000 [==============================] - 7s 111us/step - loss: 0.2625 - acc: 0.9249 - val_loss: 0.1344 - val_acc: 0.9590\n",
      "Epoch 2/20\n",
      "60000/60000 [==============================] - 6s 92us/step - loss: 0.0996 - acc: 0.9705 - val_loss: 0.0971 - val_acc: 0.9704\n",
      "Epoch 3/20\n",
      "60000/60000 [==============================] - 6s 92us/step - loss: 0.0660 - acc: 0.9807 - val_loss: 0.0879 - val_acc: 0.9728\n",
      "Epoch 4/20\n",
      "60000/60000 [==============================] - 5s 91us/step - loss: 0.0454 - acc: 0.9862 - val_loss: 0.0776 - val_acc: 0.9758\n",
      "Epoch 5/20\n",
      "60000/60000 [==============================] - 6s 92us/step - loss: 0.0331 - acc: 0.9902 - val_loss: 0.0693 - val_acc: 0.9790\n",
      "Epoch 6/20\n",
      "60000/60000 [==============================] - 5s 91us/step - loss: 0.0241 - acc: 0.9927 - val_loss: 0.0841 - val_acc: 0.9753\n",
      "Epoch 7/20\n",
      "60000/60000 [==============================] - 5s 91us/step - loss: 0.0184 - acc: 0.9942 - val_loss: 0.0767 - val_acc: 0.9792\n",
      "Epoch 8/20\n",
      "60000/60000 [==============================] - 6s 92us/step - loss: 0.0146 - acc: 0.9954 - val_loss: 0.0787 - val_acc: 0.9779\n",
      "Epoch 9/20\n",
      "60000/60000 [==============================] - 6s 92us/step - loss: 0.0131 - acc: 0.9959 - val_loss: 0.0812 - val_acc: 0.9774\n",
      "Epoch 10/20\n",
      "60000/60000 [==============================] - 6s 92us/step - loss: 0.0124 - acc: 0.9964 - val_loss: 0.0760 - val_acc: 0.9794\n",
      "Epoch 11/20\n",
      "60000/60000 [==============================] - 5s 91us/step - loss: 0.0095 - acc: 0.9969 - val_loss: 0.0845 - val_acc: 0.9796\n",
      "Epoch 12/20\n",
      "60000/60000 [==============================] - 5s 92us/step - loss: 0.0109 - acc: 0.9965 - val_loss: 0.0809 - val_acc: 0.9793\n",
      "Epoch 13/20\n",
      "60000/60000 [==============================] - 5s 91us/step - loss: 0.0077 - acc: 0.9976 - val_loss: 0.0816 - val_acc: 0.9815\n",
      "Epoch 14/20\n",
      "60000/60000 [==============================] - 5s 91us/step - loss: 0.0101 - acc: 0.9963 - val_loss: 0.0941 - val_acc: 0.9779\n",
      "Epoch 15/20\n",
      "60000/60000 [==============================] - 5s 90us/step - loss: 0.0073 - acc: 0.9975 - val_loss: 0.0955 - val_acc: 0.9792\n",
      "Epoch 16/20\n",
      "60000/60000 [==============================] - 5s 92us/step - loss: 0.0079 - acc: 0.9972 - val_loss: 0.0937 - val_acc: 0.9787\n",
      "Epoch 17/20\n",
      "60000/60000 [==============================] - 5s 91us/step - loss: 0.0047 - acc: 0.9986 - val_loss: 0.0950 - val_acc: 0.9780\n",
      "Epoch 18/20\n",
      "60000/60000 [==============================] - 5s 91us/step - loss: 0.0092 - acc: 0.9967 - val_loss: 0.0956 - val_acc: 0.9806\n",
      "Epoch 19/20\n",
      "60000/60000 [==============================] - 6s 92us/step - loss: 0.0045 - acc: 0.9984 - val_loss: 0.0869 - val_acc: 0.9824\n",
      "Epoch 20/20\n",
      "60000/60000 [==============================] - 6s 92us/step - loss: 0.0029 - acc: 0.9991 - val_loss: 0.1071 - val_acc: 0.9788\n"
     ]
    }
   ],
   "source": [
    "from keras.models import Sequential \n",
    "from keras.layers import Dense, Activation\n",
    "from keras.initializers import he_normal\n",
    "\n",
    "# some model parameters\n",
    "\n",
    "output_dim = 10\n",
    "input_dim = X_train.shape[1]\n",
    "\n",
    "batch_size = 128 \n",
    "nb_epoch = 20\n",
    "\n",
    "# Initialising model\n",
    "model_2 = Sequential()\n",
    "\n",
    "# Adding first hidden layer\n",
    "model_2.add(Dense(364, activation='relu', input_shape=(input_dim,), kernel_initializer=he_normal(seed=None)))\n",
    "\n",
    "# Adding second hidden layer\n",
    "model_2.add(Dense(52, activation='relu', kernel_initializer=he_normal(seed=None)))\n",
    "\n",
    "# Adding output layer\n",
    "model_2.add(Dense(output_dim, activation='softmax'))\n",
    "\n",
    "# Printing model Summary\n",
    "print(\"Model Summary :- \\n\",model_2.summary())\n",
    "\n",
    "# Compiling the model\n",
    "model_2.compile(optimizer='adam', loss='categorical_crossentropy', metrics=['accuracy'])\n",
    "\n",
    "# Fitting the data to the model\n",
    "history_2 = model_2.fit(X_train, Y_train, batch_size=batch_size, epochs=nb_epoch, verbose=1, validation_data=(X_test, Y_test))"
   ]
  },
  {
   "cell_type": "code",
   "execution_count": 0,
   "metadata": {
    "colab": {
     "base_uri": "https://localhost:8080/",
     "height": 397
    },
    "colab_type": "code",
    "id": "L4JI3ojFVGlI",
    "outputId": "13cd07e2-e2db-440f-9000-208cb0a43eb3"
   },
   "outputs": [
    {
     "name": "stdout",
     "output_type": "stream",
     "text": [
      "Test score: 0.10713244834685151\n",
      "Test accuracy: 0.9788\n"
     ]
    },
    {
     "data": {
      "image/png": "[encoded data removed]",
      "text/plain": [
       "<matplotlib.figure.Figure at 0x7f0b82bf7588>"
      ]
     },
     "metadata": {
      "tags": []
     },
     "output_type": "display_data"
    }
   ],
   "source": [
    "import matplotlib.pyplot as plt\n",
    "# Evaluating the model\n",
    "score = model_2.evaluate(X_test, Y_test, verbose=0) \n",
    "print('Test score:', score[0]) \n",
    "print('Test accuracy:', score[1])\n",
    "\n",
    "# Test and train accuracy of the model\n",
    "model_2_test = score[1]\n",
    "model_2_train = history_2.history['acc']\n",
    "\n",
    "# Plotting Train and Test Loss VS no. of epochs\n",
    "# list of epoch numbers\n",
    "x = list(range(1,nb_epoch+1))\n",
    "\n",
    "# Validation loss\n",
    "vy = history_2.history['val_loss']\n",
    "# Training loss\n",
    "ty = history_2.history['loss']\n",
    "\n",
    "# Calling the function to draw the plot\n",
    "plt_dynamic(x, vy, ty)"
   ]
  },
  {
   "cell_type": "markdown",
   "metadata": {
    "colab_type": "text",
    "id": "81tHXpUJXZeH"
   },
   "source": [
    "### (1.b) With dropout and Batch Normalization"
   ]
  },
  {
   "cell_type": "code",
   "execution_count": 0,
   "metadata": {
    "colab": {
     "base_uri": "https://localhost:8080/",
     "height": 1105
    },
    "colab_type": "code",
    "id": "ls79KJ7fVGsr",
    "outputId": "b14b17e4-0521-45bd-aa1a-03eb254a658c"
   },
   "outputs": [
    {
     "name": "stdout",
     "output_type": "stream",
     "text": [
      "_________________________________________________________________\n",
      "Layer (type)                 Output Shape              Param #   \n",
      "=================================================================\n",
      "dense_16 (Dense)             (None, 364)               285740    \n",
      "_________________________________________________________________\n",
      "batch_normalization_3 (Batch (None, 364)               1456      \n",
      "_________________________________________________________________\n",
      "dropout_3 (Dropout)          (None, 364)               0         \n",
      "_________________________________________________________________\n",
      "dense_17 (Dense)             (None, 52)                18980     \n",
      "_________________________________________________________________\n",
      "batch_normalization_4 (Batch (None, 52)                208       \n",
      "_________________________________________________________________\n",
      "dropout_4 (Dropout)          (None, 52)                0         \n",
      "_________________________________________________________________\n",
      "dense_18 (Dense)             (None, 10)                530       \n",
      "=================================================================\n",
      "Total params: 306,914\n",
      "Trainable params: 306,082\n",
      "Non-trainable params: 832\n",
      "_________________________________________________________________\n",
      "Model Summary :- \n",
      " None\n",
      "Train on 60000 samples, validate on 10000 samples\n",
      "Epoch 1/20\n",
      "60000/60000 [==============================] - 10s 169us/step - loss: 0.5473 - acc: 0.8364 - val_loss: 0.1671 - val_acc: 0.9498\n",
      "Epoch 2/20\n",
      "60000/60000 [==============================] - 7s 123us/step - loss: 0.2572 - acc: 0.9249 - val_loss: 0.1277 - val_acc: 0.9604\n",
      "Epoch 3/20\n",
      "60000/60000 [==============================] - 7s 123us/step - loss: 0.2055 - acc: 0.9410 - val_loss: 0.1014 - val_acc: 0.9690\n",
      "Epoch 4/20\n",
      "60000/60000 [==============================] - 7s 122us/step - loss: 0.1726 - acc: 0.9498 - val_loss: 0.0905 - val_acc: 0.9720\n",
      "Epoch 5/20\n",
      "60000/60000 [==============================] - 7s 122us/step - loss: 0.1558 - acc: 0.9552 - val_loss: 0.0841 - val_acc: 0.9736\n",
      "Epoch 6/20\n",
      "60000/60000 [==============================] - 7s 122us/step - loss: 0.1397 - acc: 0.9592 - val_loss: 0.0846 - val_acc: 0.9746\n",
      "Epoch 7/20\n",
      "60000/60000 [==============================] - 7s 123us/step - loss: 0.1302 - acc: 0.9625 - val_loss: 0.0756 - val_acc: 0.9763\n",
      "Epoch 8/20\n",
      "60000/60000 [==============================] - 7s 123us/step - loss: 0.1221 - acc: 0.9650 - val_loss: 0.0751 - val_acc: 0.9761\n",
      "Epoch 9/20\n",
      "60000/60000 [==============================] - 7s 123us/step - loss: 0.1134 - acc: 0.9668 - val_loss: 0.0747 - val_acc: 0.9757\n",
      "Epoch 10/20\n",
      "60000/60000 [==============================] - 7s 122us/step - loss: 0.1052 - acc: 0.9693 - val_loss: 0.0703 - val_acc: 0.9786\n",
      "Epoch 11/20\n",
      "60000/60000 [==============================] - 8s 137us/step - loss: 0.1010 - acc: 0.9696 - val_loss: 0.0682 - val_acc: 0.9795\n",
      "Epoch 12/20\n",
      "60000/60000 [==============================] - 7s 122us/step - loss: 0.0983 - acc: 0.9712 - val_loss: 0.0659 - val_acc: 0.9792\n",
      "Epoch 13/20\n",
      "60000/60000 [==============================] - 7s 121us/step - loss: 0.0954 - acc: 0.9724 - val_loss: 0.0643 - val_acc: 0.9806\n",
      "Epoch 14/20\n",
      "60000/60000 [==============================] - 7s 121us/step - loss: 0.0923 - acc: 0.9728 - val_loss: 0.0669 - val_acc: 0.9787\n",
      "Epoch 15/20\n",
      "60000/60000 [==============================] - 7s 122us/step - loss: 0.0889 - acc: 0.9735 - val_loss: 0.0678 - val_acc: 0.9793\n",
      "Epoch 16/20\n",
      "60000/60000 [==============================] - 7s 121us/step - loss: 0.0846 - acc: 0.9746 - val_loss: 0.0672 - val_acc: 0.9808\n",
      "Epoch 17/20\n",
      "60000/60000 [==============================] - 7s 121us/step - loss: 0.0814 - acc: 0.9758 - val_loss: 0.0621 - val_acc: 0.9831\n",
      "Epoch 18/20\n",
      "60000/60000 [==============================] - 7s 122us/step - loss: 0.0789 - acc: 0.9763 - val_loss: 0.0648 - val_acc: 0.9801\n",
      "Epoch 19/20\n",
      "60000/60000 [==============================] - 7s 121us/step - loss: 0.0789 - acc: 0.9759 - val_loss: 0.0617 - val_acc: 0.9818\n",
      "Epoch 20/20\n",
      "60000/60000 [==============================] - 7s 122us/step - loss: 0.0771 - acc: 0.9773 - val_loss: 0.0642 - val_acc: 0.9803\n"
     ]
    }
   ],
   "source": [
    "from keras.layers.normalization import BatchNormalization\n",
    "from keras.layers import Dropout\n",
    "\n",
    "# Initialising model\n",
    "model_2d = Sequential()\n",
    "\n",
    "# Adding first hidden layer\n",
    "model_2d.add(Dense(364, activation='relu', input_shape=(input_dim,), kernel_initializer=he_normal(seed=None)))\n",
    "# Adding Batch Normalization\n",
    "model_2d.add(BatchNormalization())\n",
    "# Adding dropout to first hidden layer\n",
    "model_2d.add(Dropout(0.5))\n",
    "\n",
    "# Adding second hidden layer\n",
    "model_2d.add(Dense(52, activation='relu', kernel_initializer=he_normal(seed=None)))\n",
    "# Adding Batch Normalization\n",
    "model_2d.add(BatchNormalization())\n",
    "# Adding dropout to second hidden layer\n",
    "model_2d.add(Dropout(0.5))\n",
    "\n",
    "# Adding output layer\n",
    "model_2d.add(Dense(output_dim, activation='softmax'))\n",
    "\n",
    "# Printing model Summary\n",
    "print(\"Model Summary :- \\n\",model_2d.summary())\n",
    "\n",
    "# Compiling the model\n",
    "model_2d.compile(optimizer='adam', loss='categorical_crossentropy', metrics=['accuracy'])\n",
    "\n",
    "# Fitting the data to the model\n",
    "history_2d = model_2d.fit(X_train, Y_train, batch_size=batch_size, epochs=nb_epoch, verbose=1, validation_data=(X_test, Y_test))\n"
   ]
  },
  {
   "cell_type": "code",
   "execution_count": 0,
   "metadata": {
    "colab": {
     "base_uri": "https://localhost:8080/",
     "height": 397
    },
    "colab_type": "code",
    "id": "-uNh02yCXyMi",
    "outputId": "89de3749-1590-40cf-dcba-d8a8aeb8df48"
   },
   "outputs": [
    {
     "name": "stdout",
     "output_type": "stream",
     "text": [
      "Test score: 0.06424971719455207\n",
      "Test accuracy: 0.9803\n"
     ]
    },
    {
     "data": {
      "image/png": "[encoded data removed]",
      "text/plain": [
       "<matplotlib.figure.Figure at 0x7f0b7d36d390>"
      ]
     },
     "metadata": {
      "tags": []
     },
     "output_type": "display_data"
    }
   ],
   "source": [
    "\n",
    "# Evaluating the model\n",
    "score = model_2d.evaluate(X_test, Y_test, verbose=0) \n",
    "print('Test score:', score[0]) \n",
    "print('Test accuracy:', score[1])\n",
    "\n",
    "# Test and train accuracy of the model\n",
    "model_2d_test = score[1]\n",
    "model_2d_train = history_2d.history['acc']\n",
    "\n",
    "# Plotting Train and Test Loss VS no. of epochs\n",
    "# list of epoch numbers\n",
    "x = list(range(1,nb_epoch+1))\n",
    "\n",
    "# Validation loss\n",
    "vy = history_2d.history['val_loss']\n",
    "# Training loss\n",
    "ty = history_2d.history['loss']\n",
    "\n",
    "# Calling the function to draw the plot\n",
    "plt_dynamic(x, vy, ty)"
   ]
  },
  {
   "cell_type": "markdown",
   "metadata": {
    "colab_type": "text",
    "id": "c7S1a5vwYBOA"
   },
   "source": [
    "## (2). Softmax Classifier with 3 hidden layers"
   ]
  },
  {
   "cell_type": "markdown",
   "metadata": {
    "colab_type": "text",
    "id": "4q611e-bYEeD"
   },
   "source": [
    "### (2.a) Without Dropout and Batch Normalization"
   ]
  },
  {
   "cell_type": "code",
   "execution_count": 0,
   "metadata": {
    "colab": {
     "base_uri": "https://localhost:8080/",
     "height": 986
    },
    "colab_type": "code",
    "id": "IBrpAD49X-Il",
    "outputId": "4ee8e89d-5b1f-4517-8777-f8f57ae982af"
   },
   "outputs": [
    {
     "name": "stdout",
     "output_type": "stream",
     "text": [
      "_________________________________________________________________\n",
      "Layer (type)                 Output Shape              Param #   \n",
      "=================================================================\n",
      "dense_19 (Dense)             (None, 392)               307720    \n",
      "_________________________________________________________________\n",
      "dense_20 (Dense)             (None, 196)               77028     \n",
      "_________________________________________________________________\n",
      "dense_21 (Dense)             (None, 98)                19306     \n",
      "_________________________________________________________________\n",
      "dense_22 (Dense)             (None, 10)                990       \n",
      "=================================================================\n",
      "Total params: 405,044\n",
      "Trainable params: 405,044\n",
      "Non-trainable params: 0\n",
      "_________________________________________________________________\n",
      "None\n",
      "Train on 60000 samples, validate on 10000 samples\n",
      "Epoch 1/20\n",
      "60000/60000 [==============================] - 8s 128us/step - loss: 0.2318 - acc: 0.9323 - val_loss: 0.1132 - val_acc: 0.9635\n",
      "Epoch 2/20\n",
      "60000/60000 [==============================] - 7s 118us/step - loss: 0.0880 - acc: 0.9733 - val_loss: 0.0772 - val_acc: 0.9766\n",
      "Epoch 3/20\n",
      "60000/60000 [==============================] - 7s 119us/step - loss: 0.0562 - acc: 0.9825 - val_loss: 0.0716 - val_acc: 0.9781\n",
      "Epoch 4/20\n",
      "60000/60000 [==============================] - 7s 120us/step - loss: 0.0397 - acc: 0.9873 - val_loss: 0.0727 - val_acc: 0.9777\n",
      "Epoch 5/20\n",
      "60000/60000 [==============================] - 7s 118us/step - loss: 0.0322 - acc: 0.9895 - val_loss: 0.0735 - val_acc: 0.9783\n",
      "Epoch 6/20\n",
      "60000/60000 [==============================] - 7s 118us/step - loss: 0.0241 - acc: 0.9923 - val_loss: 0.0806 - val_acc: 0.9757\n",
      "Epoch 7/20\n",
      "60000/60000 [==============================] - 7s 119us/step - loss: 0.0212 - acc: 0.9927 - val_loss: 0.0855 - val_acc: 0.9783\n",
      "Epoch 8/20\n",
      "60000/60000 [==============================] - 7s 118us/step - loss: 0.0206 - acc: 0.9932 - val_loss: 0.0780 - val_acc: 0.9809\n",
      "Epoch 9/20\n",
      "60000/60000 [==============================] - 7s 119us/step - loss: 0.0169 - acc: 0.9947 - val_loss: 0.0808 - val_acc: 0.9797\n",
      "Epoch 10/20\n",
      "60000/60000 [==============================] - 7s 118us/step - loss: 0.0155 - acc: 0.9944 - val_loss: 0.0810 - val_acc: 0.9800\n",
      "Epoch 11/20\n",
      "60000/60000 [==============================] - 7s 118us/step - loss: 0.0136 - acc: 0.9955 - val_loss: 0.0879 - val_acc: 0.9808\n",
      "Epoch 12/20\n",
      "60000/60000 [==============================] - 7s 119us/step - loss: 0.0134 - acc: 0.9953 - val_loss: 0.0856 - val_acc: 0.9802\n",
      "Epoch 13/20\n",
      "60000/60000 [==============================] - 7s 119us/step - loss: 0.0129 - acc: 0.9955 - val_loss: 0.0824 - val_acc: 0.9807\n",
      "Epoch 14/20\n",
      "60000/60000 [==============================] - 7s 118us/step - loss: 0.0131 - acc: 0.9962 - val_loss: 0.0951 - val_acc: 0.9786\n",
      "Epoch 15/20\n",
      "60000/60000 [==============================] - 7s 118us/step - loss: 0.0118 - acc: 0.9963 - val_loss: 0.1014 - val_acc: 0.9789\n",
      "Epoch 16/20\n",
      "60000/60000 [==============================] - 7s 119us/step - loss: 0.0089 - acc: 0.9974 - val_loss: 0.0711 - val_acc: 0.9844\n",
      "Epoch 17/20\n",
      "60000/60000 [==============================] - 7s 119us/step - loss: 0.0109 - acc: 0.9967 - val_loss: 0.0848 - val_acc: 0.9819\n",
      "Epoch 18/20\n",
      "60000/60000 [==============================] - 7s 118us/step - loss: 0.0096 - acc: 0.9973 - val_loss: 0.0801 - val_acc: 0.9833\n",
      "Epoch 19/20\n",
      "60000/60000 [==============================] - 7s 117us/step - loss: 0.0087 - acc: 0.9971 - val_loss: 0.0895 - val_acc: 0.9813\n",
      "Epoch 20/20\n",
      "60000/60000 [==============================] - 7s 119us/step - loss: 0.0072 - acc: 0.9977 - val_loss: 0.0883 - val_acc: 0.9840\n"
     ]
    }
   ],
   "source": [
    "# Initialising model\n",
    "model_3 = Sequential()\n",
    "\n",
    "# Adding first hidden layer\n",
    "model_3.add(Dense(392, activation='relu', input_shape=(input_dim,), kernel_initializer=he_normal(seed=None)))\n",
    "\n",
    "# Adding second hidden layer\n",
    "model_3.add(Dense(196, activation='relu', kernel_initializer=he_normal(seed=None)))\n",
    "\n",
    "# Adding third hidden layer\n",
    "model_3.add(Dense(98, activation='relu', kernel_initializer=he_normal(seed=None)))\n",
    "\n",
    "# Adding output layer\n",
    "model_3.add(Dense(output_dim, activation='softmax'))\n",
    "\n",
    "# Printing model Summary\n",
    "print(model_3.summary())\n",
    "\n",
    "# Compiling the model\n",
    "model_3.compile(optimizer='adam', loss='categorical_crossentropy', metrics=['accuracy'])\n",
    "\n",
    "# Fitting the data to the model\n",
    "history_3 = model_3.fit(X_train, Y_train, batch_size=batch_size, epochs=nb_epoch, verbose=1, validation_data=(X_test, Y_test))"
   ]
  },
  {
   "cell_type": "code",
   "execution_count": 0,
   "metadata": {
    "colab": {
     "base_uri": "https://localhost:8080/",
     "height": 397
    },
    "colab_type": "code",
    "id": "3H50Z-UQYVkW",
    "outputId": "463b130d-09fb-462a-d66e-71ddb121a48e"
   },
   "outputs": [
    {
     "name": "stdout",
     "output_type": "stream",
     "text": [
      "Test score: 0.08825439285551874\n",
      "Test accuracy: 0.984\n"
     ]
    },
    {
     "data": {
      "image/png": "[encoded data removed]",
      "text/plain": [
       "<matplotlib.figure.Figure at 0x7f0b7c124400>"
      ]
     },
     "metadata": {
      "tags": []
     },
     "output_type": "display_data"
    }
   ],
   "source": [
    "# Evaluating the model\n",
    "score = model_3.evaluate(X_test, Y_test, verbose=0) \n",
    "print('Test score:', score[0]) \n",
    "print('Test accuracy:', score[1])\n",
    "\n",
    "# Test and train accuracy of the model\n",
    "model_3_test = score[1]\n",
    "model_3_train = history_3.history['acc']\n",
    "\n",
    "# Plotting Train and Test Loss VS no. of epochs\n",
    "# list of epoch numbers\n",
    "x = list(range(1,nb_epoch+1))\n",
    "\n",
    "# Validation loss\n",
    "vy = history_3.history['val_loss']\n",
    "# Training loss\n",
    "ty = history_3.history['loss']\n",
    "\n",
    "# Calling the function to draw the plot\n",
    "plt_dynamic(x, vy, ty)"
   ]
  },
  {
   "cell_type": "markdown",
   "metadata": {
    "colab_type": "text",
    "id": "km3HTpr2YYNS"
   },
   "source": []
  },
  {
   "cell_type": "markdown",
   "metadata": {
    "colab_type": "text",
    "id": "nhd8Ii2GYYUd"
   },
   "source": [
    "### (2.b) With Droput and Batch Normalization"
   ]
  },
  {
   "cell_type": "code",
   "execution_count": 0,
   "metadata": {
    "colab": {
     "base_uri": "https://localhost:8080/",
     "height": 1190
    },
    "colab_type": "code",
    "id": "iEr0e3q8YVuR",
    "outputId": "98967238-b514-4576-f9e4-79bee2c87be2"
   },
   "outputs": [
    {
     "name": "stdout",
     "output_type": "stream",
     "text": [
      "_________________________________________________________________\n",
      "Layer (type)                 Output Shape              Param #   \n",
      "=================================================================\n",
      "dense_23 (Dense)             (None, 392)               307720    \n",
      "_________________________________________________________________\n",
      "batch_normalization_5 (Batch (None, 392)               1568      \n",
      "_________________________________________________________________\n",
      "dropout_5 (Dropout)          (None, 392)               0         \n",
      "_________________________________________________________________\n",
      "dense_24 (Dense)             (None, 196)               77028     \n",
      "_________________________________________________________________\n",
      "batch_normalization_6 (Batch (None, 196)               784       \n",
      "_________________________________________________________________\n",
      "dropout_6 (Dropout)          (None, 196)               0         \n",
      "_________________________________________________________________\n",
      "dense_25 (Dense)             (None, 98)                19306     \n",
      "_________________________________________________________________\n",
      "batch_normalization_7 (Batch (None, 98)                392       \n",
      "_________________________________________________________________\n",
      "dropout_7 (Dropout)          (None, 98)                0         \n",
      "_________________________________________________________________\n",
      "dense_26 (Dense)             (None, 10)                990       \n",
      "=================================================================\n",
      "Total params: 407,788\n",
      "Trainable params: 406,416\n",
      "Non-trainable params: 1,372\n",
      "_________________________________________________________________\n",
      "None\n",
      "Train on 60000 samples, validate on 10000 samples\n",
      "Epoch 1/20\n",
      "60000/60000 [==============================] - 14s 237us/step - loss: 0.6456 - acc: 0.8009 - val_loss: 0.1829 - val_acc: 0.9443\n",
      "Epoch 2/20\n",
      "60000/60000 [==============================] - 14s 225us/step - loss: 0.2815 - acc: 0.9186 - val_loss: 0.1316 - val_acc: 0.9604\n",
      "Epoch 3/20\n",
      "60000/60000 [==============================] - 13s 213us/step - loss: 0.2195 - acc: 0.9367 - val_loss: 0.1108 - val_acc: 0.9659\n",
      "Epoch 4/20\n",
      "60000/60000 [==============================] - 12s 204us/step - loss: 0.1855 - acc: 0.9470 - val_loss: 0.0940 - val_acc: 0.9709\n",
      "Epoch 5/20\n",
      "60000/60000 [==============================] - 12s 205us/step - loss: 0.1633 - acc: 0.9535 - val_loss: 0.0902 - val_acc: 0.9733\n",
      "Epoch 6/20\n",
      "60000/60000 [==============================] - 12s 201us/step - loss: 0.1453 - acc: 0.9578 - val_loss: 0.0794 - val_acc: 0.9756\n",
      "Epoch 7/20\n",
      "60000/60000 [==============================] - 12s 193us/step - loss: 0.1361 - acc: 0.9613 - val_loss: 0.0785 - val_acc: 0.9751\n",
      "Epoch 8/20\n",
      "60000/60000 [==============================] - 12s 206us/step - loss: 0.1257 - acc: 0.9630 - val_loss: 0.0754 - val_acc: 0.9773\n",
      "Epoch 9/20\n",
      "60000/60000 [==============================] - 12s 193us/step - loss: 0.1170 - acc: 0.9654 - val_loss: 0.0697 - val_acc: 0.9793\n",
      "Epoch 10/20\n",
      "60000/60000 [==============================] - 12s 199us/step - loss: 0.1086 - acc: 0.9689 - val_loss: 0.0663 - val_acc: 0.9803\n",
      "Epoch 11/20\n",
      "60000/60000 [==============================] - 12s 196us/step - loss: 0.1068 - acc: 0.9688 - val_loss: 0.0681 - val_acc: 0.9792\n",
      "Epoch 12/20\n",
      "60000/60000 [==============================] - 11s 189us/step - loss: 0.0972 - acc: 0.9713 - val_loss: 0.0683 - val_acc: 0.9805\n",
      "Epoch 13/20\n",
      "60000/60000 [==============================] - 11s 191us/step - loss: 0.0961 - acc: 0.9718 - val_loss: 0.0656 - val_acc: 0.9799\n",
      "Epoch 14/20\n",
      "60000/60000 [==============================] - 11s 184us/step - loss: 0.0904 - acc: 0.9737 - val_loss: 0.0660 - val_acc: 0.9802\n",
      "Epoch 15/20\n",
      "60000/60000 [==============================] - 12s 193us/step - loss: 0.0898 - acc: 0.9734 - val_loss: 0.0669 - val_acc: 0.9789\n",
      "Epoch 16/20\n",
      "60000/60000 [==============================] - 12s 195us/step - loss: 0.0847 - acc: 0.9747 - val_loss: 0.0645 - val_acc: 0.9806\n",
      "Epoch 17/20\n",
      "60000/60000 [==============================] - 11s 188us/step - loss: 0.0799 - acc: 0.9757 - val_loss: 0.0592 - val_acc: 0.9829\n",
      "Epoch 18/20\n",
      "60000/60000 [==============================] - 12s 202us/step - loss: 0.0819 - acc: 0.9757 - val_loss: 0.0596 - val_acc: 0.9829\n",
      "Epoch 19/20\n",
      "60000/60000 [==============================] - 12s 202us/step - loss: 0.0761 - acc: 0.9773 - val_loss: 0.0617 - val_acc: 0.9825\n",
      "Epoch 20/20\n",
      "60000/60000 [==============================] - 11s 188us/step - loss: 0.0752 - acc: 0.9769 - val_loss: 0.0675 - val_acc: 0.9816\n"
     ]
    }
   ],
   "source": [
    "model_3d = Sequential()\n",
    "\n",
    "# Adding first hidden layer\n",
    "model_3d.add(Dense(392, activation='relu', input_shape=(input_dim,), kernel_initializer=he_normal(seed=None)))\n",
    "# Adding Batch Normalization\n",
    "model_3d.add(BatchNormalization())\n",
    "# Adding dropout\n",
    "model_3d.add(Dropout(0.5))\n",
    "\n",
    "# Adding second hidden layer\n",
    "model_3d.add(Dense(196, activation='relu', kernel_initializer=he_normal(seed=None)))\n",
    "# Adding Batch Normalization\n",
    "model_3d.add(BatchNormalization())\n",
    "# Adding dropout\n",
    "model_3d.add(Dropout(0.5))\n",
    "\n",
    "# Adding third hidden layer\n",
    "model_3d.add(Dense(98, activation='relu', kernel_initializer=he_normal(seed=None)))\n",
    "# Adding Batch Normalization\n",
    "model_3d.add(BatchNormalization())\n",
    "# Adding dropout\n",
    "model_3d.add(Dropout(0.5))\n",
    "\n",
    "# Adding output layer\n",
    "model_3d.add(Dense(output_dim, activation='softmax'))\n",
    "\n",
    "# Printing model Summary\n",
    "print(model_3d.summary())\n",
    "\n",
    "# Compiling the model\n",
    "model_3d.compile(optimizer='adam', loss='categorical_crossentropy', metrics=['accuracy'])\n",
    "\n",
    "# Fitting the data to the model\n",
    "history_3d = model_3d.fit(X_train, Y_train, batch_size=batch_size, epochs=nb_epoch, verbose=1, validation_data=(X_test, Y_test))"
   ]
  },
  {
   "cell_type": "code",
   "execution_count": 0,
   "metadata": {
    "colab": {
     "base_uri": "https://localhost:8080/",
     "height": 397
    },
    "colab_type": "code",
    "id": "U_A5u_GUYl-b",
    "outputId": "0448a83c-0de5-4678-beff-de976ac3d172"
   },
   "outputs": [
    {
     "name": "stdout",
     "output_type": "stream",
     "text": [
      "Test score: 0.06754246267098933\n",
      "Test accuracy: 0.9816\n"
     ]
    },
    {
     "data": {
      "image/png": "[encoded data removed]",
      "text/plain": [
       "<matplotlib.figure.Figure at 0x7f0b7adb2d30>"
      ]
     },
     "metadata": {
      "tags": []
     },
     "output_type": "display_data"
    }
   ],
   "source": [
    "# Evaluating the model\n",
    "score = model_3d.evaluate(X_test, Y_test, verbose=0) \n",
    "print('Test score:', score[0]) \n",
    "print('Test accuracy:', score[1])\n",
    "\n",
    "# Test and train accuracy of the model\n",
    "model_3d_test = score[1]\n",
    "model_3d_train = history_3d.history['acc']\n",
    "\n",
    "# Plotting Train and Test Loss VS no. of epochs\n",
    "# list of epoch numbers\n",
    "x = list(range(1,nb_epoch+1))\n",
    "\n",
    "# Validation loss\n",
    "vy = history_3d.history['val_loss']\n",
    "# Training loss\n",
    "ty = history_3d.history['loss']\n",
    "\n",
    "# Calling the function to draw the plot\n",
    "plt_dynamic(x, vy, ty)"
   ]
  },
  {
   "cell_type": "markdown",
   "metadata": {
    "colab_type": "text",
    "id": "ddSWb9ehYxNW"
   },
   "source": []
  },
  {
   "cell_type": "markdown",
   "metadata": {
    "colab_type": "text",
    "id": "YfdvQAqVYxQz"
   },
   "source": [
    "## 3). Softmax Classifier with 5 hidden layers"
   ]
  },
  {
   "cell_type": "markdown",
   "metadata": {
    "colab_type": "text",
    "id": "szh9VBzSY3ek"
   },
   "source": [
    "### 3.a) Without Dropout and Batch Normalization"
   ]
  },
  {
   "cell_type": "code",
   "execution_count": 0,
   "metadata": {
    "colab": {
     "base_uri": "https://localhost:8080/",
     "height": 1054
    },
    "colab_type": "code",
    "id": "TtrQ-5PAYzC9",
    "outputId": "c3202c1a-1845-4baf-97cf-841b00b9ae1d"
   },
   "outputs": [
    {
     "name": "stdout",
     "output_type": "stream",
     "text": [
      "_________________________________________________________________\n",
      "Layer (type)                 Output Shape              Param #   \n",
      "=================================================================\n",
      "dense_27 (Dense)             (None, 512)               401920    \n",
      "_________________________________________________________________\n",
      "dense_28 (Dense)             (None, 256)               131328    \n",
      "_________________________________________________________________\n",
      "dense_29 (Dense)             (None, 128)               32896     \n",
      "_________________________________________________________________\n",
      "dense_30 (Dense)             (None, 64)                8256      \n",
      "_________________________________________________________________\n",
      "dense_31 (Dense)             (None, 32)                2080      \n",
      "_________________________________________________________________\n",
      "dense_32 (Dense)             (None, 10)                330       \n",
      "=================================================================\n",
      "Total params: 576,810\n",
      "Trainable params: 576,810\n",
      "Non-trainable params: 0\n",
      "_________________________________________________________________\n",
      "None\n",
      "Train on 60000 samples, validate on 10000 samples\n",
      "Epoch 1/20\n",
      "60000/60000 [==============================] - 13s 213us/step - loss: 0.2497 - acc: 0.9237 - val_loss: 0.1106 - val_acc: 0.9680\n",
      "Epoch 2/20\n",
      "60000/60000 [==============================] - 11s 191us/step - loss: 0.0890 - acc: 0.9730 - val_loss: 0.0852 - val_acc: 0.9733\n",
      "Epoch 3/20\n",
      "60000/60000 [==============================] - 11s 188us/step - loss: 0.0623 - acc: 0.9803 - val_loss: 0.0977 - val_acc: 0.9702\n",
      "Epoch 4/20\n",
      "60000/60000 [==============================] - 12s 192us/step - loss: 0.0451 - acc: 0.9857 - val_loss: 0.0888 - val_acc: 0.9739\n",
      "Epoch 5/20\n",
      "60000/60000 [==============================] - 11s 191us/step - loss: 0.0371 - acc: 0.9882 - val_loss: 0.0797 - val_acc: 0.9774\n",
      "Epoch 6/20\n",
      "60000/60000 [==============================] - 11s 189us/step - loss: 0.0307 - acc: 0.9905 - val_loss: 0.0887 - val_acc: 0.9740\n",
      "Epoch 7/20\n",
      "60000/60000 [==============================] - 11s 188us/step - loss: 0.0266 - acc: 0.9911 - val_loss: 0.0859 - val_acc: 0.9779\n",
      "Epoch 8/20\n",
      "60000/60000 [==============================] - 13s 212us/step - loss: 0.0238 - acc: 0.9919 - val_loss: 0.0694 - val_acc: 0.9812\n",
      "Epoch 9/20\n",
      "60000/60000 [==============================] - 11s 191us/step - loss: 0.0224 - acc: 0.9931 - val_loss: 0.0824 - val_acc: 0.9778\n",
      "Epoch 10/20\n",
      "60000/60000 [==============================] - 12s 193us/step - loss: 0.0192 - acc: 0.9941 - val_loss: 0.0789 - val_acc: 0.9805\n",
      "Epoch 11/20\n",
      "60000/60000 [==============================] - 11s 192us/step - loss: 0.0178 - acc: 0.9944 - val_loss: 0.0909 - val_acc: 0.9757\n",
      "Epoch 12/20\n",
      "60000/60000 [==============================] - 11s 191us/step - loss: 0.0160 - acc: 0.9949 - val_loss: 0.0848 - val_acc: 0.9810\n",
      "Epoch 13/20\n",
      "60000/60000 [==============================] - 11s 191us/step - loss: 0.0156 - acc: 0.9954 - val_loss: 0.0932 - val_acc: 0.9765\n",
      "Epoch 14/20\n",
      "60000/60000 [==============================] - 12s 206us/step - loss: 0.0145 - acc: 0.9956 - val_loss: 0.0725 - val_acc: 0.9826\n",
      "Epoch 15/20\n",
      "60000/60000 [==============================] - 11s 191us/step - loss: 0.0143 - acc: 0.9956 - val_loss: 0.0916 - val_acc: 0.9787\n",
      "Epoch 16/20\n",
      "60000/60000 [==============================] - 12s 193us/step - loss: 0.0131 - acc: 0.9959 - val_loss: 0.0904 - val_acc: 0.9803\n",
      "Epoch 17/20\n",
      "60000/60000 [==============================] - 12s 192us/step - loss: 0.0115 - acc: 0.9966 - val_loss: 0.0906 - val_acc: 0.9805\n",
      "Epoch 18/20\n",
      "60000/60000 [==============================] - 12s 193us/step - loss: 0.0127 - acc: 0.9963 - val_loss: 0.0938 - val_acc: 0.9795\n",
      "Epoch 19/20\n",
      "60000/60000 [==============================] - 12s 193us/step - loss: 0.0110 - acc: 0.9966 - val_loss: 0.0905 - val_acc: 0.9831\n",
      "Epoch 20/20\n",
      "60000/60000 [==============================] - 12s 193us/step - loss: 0.0124 - acc: 0.9965 - val_loss: 0.1035 - val_acc: 0.9775\n"
     ]
    }
   ],
   "source": [
    "# Initialising model\n",
    "model_5 = Sequential()\n",
    "\n",
    "# Adding first hidden layer\n",
    "model_5.add(Dense(512, activation='relu', input_shape=(input_dim,), kernel_initializer=he_normal(seed=None)))\n",
    "\n",
    "# Adding second hidden layer\n",
    "model_5.add(Dense(256, activation='relu', kernel_initializer=he_normal(seed=None)))\n",
    "\n",
    "# Adding third hidden layer\n",
    "model_5.add(Dense(128, activation='relu', kernel_initializer=he_normal(seed=None)))\n",
    "\n",
    "# Adding fourth hidden layer\n",
    "model_5.add(Dense(64, activation='relu', kernel_initializer=he_normal(seed=None)))\n",
    "\n",
    "# Adding fifth hidden layer\n",
    "model_5.add(Dense(32, activation='relu', kernel_initializer=he_normal(seed=None)))\n",
    "\n",
    "# Adding output layer\n",
    "model_5.add(Dense(output_dim, activation='softmax'))\n",
    "\n",
    "# Printing model Summary\n",
    "print(model_5.summary())\n",
    "\n",
    "# Compiling the model\n",
    "model_5.compile(optimizer='adam', loss='categorical_crossentropy', metrics=['accuracy'])\n",
    "\n",
    "# Fitting the data to the model\n",
    "history_5 = model_5.fit(X_train, Y_train, batch_size=batch_size, epochs=nb_epoch, verbose=1, validation_data=(X_test, Y_test))\n"
   ]
  },
  {
   "cell_type": "code",
   "execution_count": 0,
   "metadata": {
    "colab": {
     "base_uri": "https://localhost:8080/",
     "height": 397
    },
    "colab_type": "code",
    "id": "cGo3yFX1ZBEO",
    "outputId": "d5041f59-d302-4ec1-e8d9-d4e8b6ecdeb5"
   },
   "outputs": [
    {
     "name": "stdout",
     "output_type": "stream",
     "text": [
      "Test score: 0.10349378544007559\n",
      "Test accuracy: 0.9775\n"
     ]
    },
    {
     "data": {
      "image/png": "[encoded data removed]",
      "text/plain": [
       "<matplotlib.figure.Figure at 0x7f0b7ca5fd68>"
      ]
     },
     "metadata": {
      "tags": []
     },
     "output_type": "display_data"
    }
   ],
   "source": [
    "# Evaluating the model\n",
    "score = model_5.evaluate(X_test, Y_test, verbose=0) \n",
    "print('Test score:', score[0]) \n",
    "print('Test accuracy:', score[1])\n",
    "\n",
    "# Test and train accuracy of the model\n",
    "model_5_test = score[1]\n",
    "model_5_train = history_5.history['acc']\n",
    "\n",
    "# Plotting Train and Test Loss VS no. of epochs\n",
    "# list of epoch numbers\n",
    "x = list(range(1,nb_epoch+1))\n",
    "\n",
    "# Validation loss\n",
    "vy = history_5.history['val_loss']\n",
    "# Training loss\n",
    "ty = history_5.history['loss']\n",
    "\n",
    "# Calling the function to draw the plot\n",
    "plt_dynamic(x, vy, ty)"
   ]
  },
  {
   "cell_type": "markdown",
   "metadata": {
    "colab_type": "text",
    "id": "ndHz9HsrZKJW"
   },
   "source": [
    "### (3.b) With Dropout and Batch Normalisation"
   ]
  },
  {
   "cell_type": "code",
   "execution_count": 0,
   "metadata": {
    "colab": {
     "base_uri": "https://localhost:8080/",
     "height": 1394
    },
    "colab_type": "code",
    "id": "o48D7vfHZMEC",
    "outputId": "14aef9a4-075d-46f1-ec58-7b607a5ddf7b"
   },
   "outputs": [
    {
     "name": "stdout",
     "output_type": "stream",
     "text": [
      "_________________________________________________________________\n",
      "Layer (type)                 Output Shape              Param #   \n",
      "=================================================================\n",
      "dense_33 (Dense)             (None, 512)               401920    \n",
      "_________________________________________________________________\n",
      "batch_normalization_8 (Batch (None, 512)               2048      \n",
      "_________________________________________________________________\n",
      "dropout_8 (Dropout)          (None, 512)               0         \n",
      "_________________________________________________________________\n",
      "dense_34 (Dense)             (None, 256)               131328    \n",
      "_________________________________________________________________\n",
      "batch_normalization_9 (Batch (None, 256)               1024      \n",
      "_________________________________________________________________\n",
      "dropout_9 (Dropout)          (None, 256)               0         \n",
      "_________________________________________________________________\n",
      "dense_35 (Dense)             (None, 128)               32896     \n",
      "_________________________________________________________________\n",
      "batch_normalization_10 (Batc (None, 128)               512       \n",
      "_________________________________________________________________\n",
      "dropout_10 (Dropout)         (None, 128)               0         \n",
      "_________________________________________________________________\n",
      "dense_36 (Dense)             (None, 64)                8256      \n",
      "_________________________________________________________________\n",
      "batch_normalization_11 (Batc (None, 64)                256       \n",
      "_________________________________________________________________\n",
      "dropout_11 (Dropout)         (None, 64)                0         \n",
      "_________________________________________________________________\n",
      "dense_37 (Dense)             (None, 32)                2080      \n",
      "_________________________________________________________________\n",
      "batch_normalization_12 (Batc (None, 32)                128       \n",
      "_________________________________________________________________\n",
      "dropout_12 (Dropout)         (None, 32)                0         \n",
      "_________________________________________________________________\n",
      "dense_38 (Dense)             (None, 10)                330       \n",
      "=================================================================\n",
      "Total params: 580,778\n",
      "Trainable params: 578,794\n",
      "Non-trainable params: 1,984\n",
      "_________________________________________________________________\n",
      "None\n",
      "Train on 60000 samples, validate on 10000 samples\n",
      "Epoch 1/20\n",
      "60000/60000 [==============================] - 18s 297us/step - loss: 1.5213 - acc: 0.5067 - val_loss: 0.3320 - val_acc: 0.9097\n",
      "Epoch 2/20\n",
      "60000/60000 [==============================] - 15s 250us/step - loss: 0.5912 - acc: 0.8356 - val_loss: 0.1961 - val_acc: 0.9470\n",
      "Epoch 3/20\n",
      "60000/60000 [==============================] - 15s 246us/step - loss: 0.4023 - acc: 0.8970 - val_loss: 0.1685 - val_acc: 0.9541\n",
      "Epoch 4/20\n",
      "60000/60000 [==============================] - 15s 249us/step - loss: 0.3287 - acc: 0.9200 - val_loss: 0.1374 - val_acc: 0.9643\n",
      "Epoch 5/20\n",
      "60000/60000 [==============================] - 15s 249us/step - loss: 0.2755 - acc: 0.9340 - val_loss: 0.1352 - val_acc: 0.9654\n",
      "Epoch 6/20\n",
      "60000/60000 [==============================] - 14s 241us/step - loss: 0.2556 - acc: 0.9399 - val_loss: 0.1164 - val_acc: 0.9708\n",
      "Epoch 7/20\n",
      "60000/60000 [==============================] - 15s 242us/step - loss: 0.2341 - acc: 0.9455 - val_loss: 0.1054 - val_acc: 0.9741\n",
      "Epoch 8/20\n",
      "60000/60000 [==============================] - 14s 241us/step - loss: 0.2154 - acc: 0.9501 - val_loss: 0.1051 - val_acc: 0.9746\n",
      "Epoch 9/20\n",
      "60000/60000 [==============================] - 15s 244us/step - loss: 0.2041 - acc: 0.9530 - val_loss: 0.0990 - val_acc: 0.9764\n",
      "Epoch 10/20\n",
      "60000/60000 [==============================] - 15s 244us/step - loss: 0.1888 - acc: 0.9567 - val_loss: 0.0970 - val_acc: 0.9775\n",
      "Epoch 11/20\n",
      "60000/60000 [==============================] - 16s 262us/step - loss: 0.1787 - acc: 0.9598 - val_loss: 0.1035 - val_acc: 0.9748\n",
      "Epoch 12/20\n",
      "60000/60000 [==============================] - 15s 248us/step - loss: 0.1743 - acc: 0.9607 - val_loss: 0.0907 - val_acc: 0.9796\n",
      "Epoch 13/20\n",
      "60000/60000 [==============================] - 15s 247us/step - loss: 0.1614 - acc: 0.9633 - val_loss: 0.0917 - val_acc: 0.9788\n",
      "Epoch 14/20\n",
      "60000/60000 [==============================] - 15s 244us/step - loss: 0.1572 - acc: 0.9643 - val_loss: 0.0876 - val_acc: 0.9792\n",
      "Epoch 15/20\n",
      "60000/60000 [==============================] - 15s 252us/step - loss: 0.1521 - acc: 0.9661 - val_loss: 0.0821 - val_acc: 0.9813\n",
      "Epoch 16/20\n",
      "60000/60000 [==============================] - 15s 252us/step - loss: 0.1461 - acc: 0.9671 - val_loss: 0.0867 - val_acc: 0.9792\n",
      "Epoch 17/20\n",
      "60000/60000 [==============================] - 15s 245us/step - loss: 0.1420 - acc: 0.9683 - val_loss: 0.0888 - val_acc: 0.9791\n",
      "Epoch 18/20\n",
      "60000/60000 [==============================] - 15s 244us/step - loss: 0.1369 - acc: 0.9696 - val_loss: 0.0794 - val_acc: 0.9822\n",
      "Epoch 19/20\n",
      "60000/60000 [==============================] - 15s 248us/step - loss: 0.1352 - acc: 0.9696 - val_loss: 0.0855 - val_acc: 0.9806\n",
      "Epoch 20/20\n",
      "60000/60000 [==============================] - 15s 249us/step - loss: 0.1258 - acc: 0.9717 - val_loss: 0.0780 - val_acc: 0.9824\n"
     ]
    }
   ],
   "source": [
    "# Initialising model\n",
    "model_5d = Sequential()\n",
    "\n",
    "# Adding first hidden layer\n",
    "model_5d.add(Dense(512, activation='relu', input_shape=(input_dim,), kernel_initializer=he_normal(seed=None)))\n",
    "# Adding Batch Normalization\n",
    "model_5d.add(BatchNormalization())\n",
    "# Adding dropout\n",
    "model_5d.add(Dropout(0.5))\n",
    "\n",
    "# Adding second hidden layer\n",
    "model_5d.add(Dense(256, activation='relu', kernel_initializer=he_normal(seed=None)))\n",
    "# Adding Batch Normalization\n",
    "model_5d.add(BatchNormalization())\n",
    "# Adding dropout\n",
    "model_5d.add(Dropout(0.5))\n",
    "\n",
    "# Adding third hidden layer\n",
    "model_5d.add(Dense(128, activation='relu', kernel_initializer=he_normal(seed=None)))\n",
    "# Adding Batch Normalization\n",
    "model_5d.add(BatchNormalization())\n",
    "# Adding dropout\n",
    "model_5d.add(Dropout(0.5))\n",
    "\n",
    "# Adding fourth hidden layer\n",
    "model_5d.add(Dense(64, activation='relu', kernel_initializer=he_normal(seed=None)))\n",
    "# Adding Batch Normalization\n",
    "model_5d.add(BatchNormalization())\n",
    "# Adding dropout\n",
    "model_5d.add(Dropout(0.5))\n",
    "\n",
    "# Adding fifth hidden layer\n",
    "model_5d.add(Dense(32, activation='relu', kernel_initializer=he_normal(seed=None)))\n",
    "# Adding Batch Normalization\n",
    "model_5d.add(BatchNormalization())\n",
    "# Adding dropout\n",
    "model_5d.add(Dropout(0.5))\n",
    "\n",
    "# Adding output layer\n",
    "model_5d.add(Dense(output_dim, activation='softmax'))\n",
    "\n",
    "# Printing model Summary\n",
    "print(model_5d.summary())\n",
    "\n",
    "# Compiling the model\n",
    "model_5d.compile(optimizer='adam', loss='categorical_crossentropy', metrics=['accuracy'])\n",
    "\n",
    "# Fitting the data to the model\n",
    "history_5d = model_5d.fit(X_train, Y_train, batch_size=batch_size, epochs=nb_epoch, verbose=1, validation_data=(X_test, Y_test))"
   ]
  },
  {
   "cell_type": "code",
   "execution_count": 0,
   "metadata": {
    "colab": {
     "base_uri": "https://localhost:8080/",
     "height": 397
    },
    "colab_type": "code",
    "id": "6_WC_PjyZYR4",
    "outputId": "a051b897-fafa-4a64-a94b-66e76736f107"
   },
   "outputs": [
    {
     "name": "stdout",
     "output_type": "stream",
     "text": [
      "Test score: 0.07800791863687337\n",
      "Test accuracy: 0.9824\n"
     ]
    },
    {
     "data": {
      "image/png": "[encoded data removed]",
      "text/plain": [
       "<matplotlib.figure.Figure at 0x7f0b7a65eb70>"
      ]
     },
     "metadata": {
      "tags": []
     },
     "output_type": "display_data"
    }
   ],
   "source": [
    "# Evaluating the model\n",
    "score = model_5d.evaluate(X_test, Y_test, verbose=0) \n",
    "print('Test score:', score[0]) \n",
    "print('Test accuracy:', score[1])\n",
    "\n",
    "# Test and train accuracy of the model\n",
    "model_5d_test = score[1]\n",
    "model_5d_train = history_5d.history['acc']\n",
    "\n",
    "# Plotting Train and Test Loss VS no. of epochs\n",
    "# list of epoch numbers\n",
    "x = list(range(1,nb_epoch+1))\n",
    "\n",
    "# Validation loss\n",
    "vy = history_5d.history['val_loss']\n",
    "# Training loss\n",
    "ty = history_5d.history['loss']\n",
    "\n",
    "# Calling the function to draw the plot\n",
    "plt_dynamic(x, vy, ty)\n"
   ]
  },
  {
   "cell_type": "markdown",
   "metadata": {
    "colab_type": "text",
    "id": "9qk_gjc_Zvnz"
   },
   "source": [
    "## Table (Different models with their train and test accuracies):"
   ]
  },
  {
   "cell_type": "code",
   "execution_count": 4,
   "metadata": {
    "colab": {
     "base_uri": "https://localhost:8080/",
     "height": 204
    },
    "colab_type": "code",
    "id": "DMtb-32oZ0gn",
    "outputId": "db06ce9c-ec18-49b0-d1b2-86a241dfc0f5"
   },
   "outputs": [
    {
     "name": "stdout",
     "output_type": "stream",
     "text": [
      "Requirement already satisfied: prettytable in /usr/local/lib/python3.6/dist-packages (0.7.2)\n",
      "+-------+-------------------------------------------------------+-------------------+---------------+\n",
      "| S.No. |                         Model                         | Training Accuracy | Test Accuracy |\n",
      "+-------+-------------------------------------------------------+-------------------+---------------+\n",
      "|  1.0  | MLP(2 Hidden Layer) Without Dropout and Normalization |        0.99       |      0.97     |\n",
      "|  2.0  |   MLP(2 Hidden Layer) With Dropout and Normalization  |        0.97       |      0.98     |\n",
      "|  3.0  | MLP(3 Hidden Layer) Without Dropout and Normalization |        0.99       |      0.98     |\n",
      "|  4.0  |   MLP(3 Hidden Layer) With Dropout and Normalization  |        0.97       |      0.98     |\n",
      "|  5.0  | MLP(5 Hidden Layer) Without Dropout and Normalization |        0.99       |      0.97     |\n",
      "|  6.0  |   MLP(5 Hidden Layer) With Dropout and Normalization  |        0.97       |      0.98     |\n",
      "+-------+-------------------------------------------------------+-------------------+---------------+\n"
     ]
    }
   ],
   "source": [
    "# Installing the library prettytable\n",
    "!pip install prettytable\n",
    "\n",
    "from prettytable import PrettyTable\n",
    "    \n",
    "x = PrettyTable()\n",
    "\n",
    "x.field_names = [\"S.No.\", \"Model\", \"Training Accuracy\", \"Test Accuracy\"]\n",
    "\n",
    "x.add_row([1.,\"MLP(2 Hidden Layer) Without Dropout and Normalization\", 0.99,0.97])\n",
    "x.add_row([2.,\"MLP(2 Hidden Layer) With Dropout and Normalization\", 0.97,0.98])\n",
    "\n",
    "x.add_row([3.,\"MLP(3 Hidden Layer) Without Dropout and Normalization\", 0.99,0.98])\n",
    "x.add_row([4.,\"MLP(3 Hidden Layer) With Dropout and Normalization\", 0.97,0.98])\n",
    "\n",
    "x.add_row([5.,\"MLP(5 Hidden Layer) Without Dropout and Normalization\", 0.99,0.97])\n",
    "x.add_row([6.,\"MLP(5 Hidden Layer) With Dropout and Normalization\", 0.97,0.98])\n",
    "\n",
    "print(x) "
   ]
  },
  {
   "cell_type": "markdown",
   "metadata": {
    "colab_type": "text",
    "id": "43FovWfmiWdm"
   },
   "source": [
    "## Conclusion:-"
   ]
  },
  {
   "cell_type": "markdown",
   "metadata": {
    "colab_type": "text",
    "id": "s-N6yDnXieW0"
   },
   "source": [
    "### Procedure followed:-"
   ]
  },
  {
   "cell_type": "markdown",
   "metadata": {
    "colab_type": "text",
    "id": "x8xvC8EaoPfu"
   },
   "source": [
    "1. Load MNIST dataset\n",
    "\n",
    "2. Split the dataset into train and test\n",
    "\n",
    "3. Normalize the train and test data\n",
    "\n",
    "4. Convert class variable into categorical data vector\n",
    "\n",
    "5. Implement Softmax classifier with 2 , 3 and 5 hidden layers without Dropout and Batch Normalization .\n",
    "\n",
    "6. Then Implemented with Dropout and Batch Normalization to the hidden layers .\n",
    "\n",
    "7. Draw Categorical Crossentropy Loss VS No.of Epochs plot \n"
   ]
  }
 ],
 "metadata": {
  "colab": {
   "collapsed_sections": [],
   "name": "MLP Architectures On MNIST Data.ipynb",
   "provenance": [],
   "version": "0.3.2"
  },
  "kernelspec": {
   "display_name": "Python 3",
   "language": "python",
   "name": "python3"
  },
  "language_info": {
   "codemirror_mode": {
    "name": "ipython",
    "version": 3
   },
   "file_extension": ".py",
   "mimetype": "text/x-python",
   "name": "python",
   "nbconvert_exporter": "python",
   "pygments_lexer": "ipython3",
   "version": "3.6.5"
  }
 },
 "nbformat": 4,
 "nbformat_minor": 1
}
